{
 "cells": [
  {
   "cell_type": "code",
   "execution_count": 8,
   "metadata": {},
   "outputs": [],
   "source": [
    "from dataclasses import dataclass\n",
    "import subprocess\n",
    "from subprocess import CompletedProcess\n",
    "\n",
    "from google.cloud import resourcemanager_v3\n",
    "from google.cloud.resourcemanager_v3.services.projects.client import ProjectsClient\n",
    "\n",
    "@dataclass\n",
    "class Config:\n",
    "    PROJECT_NAME: str = \"{{cookiecutter.project_name}}\"  # gh repo name\n",
    "    GITHUB_PAT: str = \"{{cookiecutter.github_pat}}\"\n",
    "    GITHUB_AUTHOR: str = \"{{cookiecutter.author_github_handle}}\"\n",
    "    GITHUB_CLOUD_BUILD_INSTALLATION_ID: str = (\n",
    "        \"{{cookiecutter.github_cloud_build_app_installation_id}}\"\n",
    "    )\n",
    "    GCP_PROJECT_ID: str = (\n",
    "        \"{{cookiecutter.gcp_project_id}}\"  # name of organizing project in GCP\n",
    "    )\n",
    "    GOOGLE_APPLICATION_CREDENTIALS: str = (\n",
    "        \"{{cookiecutter.google_application_credentials}}\"\n",
    "    )\n",
    "    GCP_REGION_ID: str = \"{{cookiecutter.gcp_region_id}}\"\n",
    "    GCP_ARTIFACT_REGISTRY_REPO: str = \"{{cookiecutter.gcp_artifact_registry_repo_name}}\"\n",
    "    GCP_TRIGGER_NAME: str = \"{{cookiecutter.gcp_trigger_name}}\"\n",
    "    GCP_TRIGGER_PATTERN: str = \"{{cookiecutter.trigger_branch_pattern}}\"\n",
    "\n",
    "    run_validation: bool = True\n",
    "\n",
    "    @property\n",
    "    def gcp_project_number(self) -> str:\n",
    "        projects_client: ProjectsClient = resourcemanager_v3.ProjectsClient()\n",
    "        project_name = f\"projects/{self.GCP_PROJECT_ID}\"\n",
    "        project: resourcemanager_v3.Project = projects_client.get_project(\n",
    "            name=project_name\n",
    "        )\n",
    "        project_number = project.name.split(\"/\")[-1]\n",
    "        return project_number\n",
    "\n",
    "    @property\n",
    "    def cloud_build_service_agent_email(self) -> str:\n",
    "        return f\"service-${self.gcp_project_number}@gcp-sa-cloudbuild.iam.gserviceaccount.com\"\n",
    "\n",
    "    @property\n",
    "    def gcp_github_connection_name(self) -> str:\n",
    "        return f\"{self.PROJECT_NAME}-gh-connection\"\n",
    "\n",
    "    @property\n",
    "    def gcp_pat_secret_name(self) -> str:\n",
    "        return f\"{self.PROJECT_NAME}-github-pat\"\n",
    "\n",
    "    @property\n",
    "    def gcp_pat_secret_path(self) -> str:\n",
    "        return make_secret_path(\n",
    "            secret_name=self.gcp_pat_secret_name, project_id=self.GCP_PROJECT_ID\n",
    "        )\n",
    "\n",
    "    @property\n",
    "    def github_uri(self) -> str:\n",
    "        return f\"https://github.com/{self.GITHUB_AUTHOR}/{self.PROJECT_NAME}.git\"\n",
    "\n",
    "    ## Validation steps\n",
    "    def __post_init__(self) -> None:\n",
    "        if self.run_validation:\n",
    "            check_github_pat(self.GITHUB_AUTHOR, self.GITHUB_PAT)\n",
    "            _ = check_github_repo(\n",
    "                self.GITHUB_AUTHOR, self.PROJECT_NAME, self.GITHUB_PAT\n",
    "            )\n",
    "\n",
    "\n",
    "def run_subprocess_w_check(cmds: list[str]) -> CompletedProcess[str]:\n",
    "    result: CompletedProcess[str] = subprocess.run(\n",
    "        cmds, check=True, capture_output=True, text=True\n",
    "    )\n",
    "    if result.returncode != 0:\n",
    "        raise RuntimeError(\n",
    "            f\"Command failed with return code {result.returncode}: {result.stderr}\"\n",
    "        )\n",
    "\n",
    "    return result\n",
    "\n",
    "\n",
    "def assign_permissions_to_default_cloud_builder_service_account(\n",
    "    gcp_project_id: str,\n",
    "    gcp_project_number: str,\n",
    ") -> CompletedProcess[str]:\n",
    "    default_cloud_build_service_account = (\n",
    "        f\"service-{gcp_project_number}@gcp-sa-cloudbuild.iam.gserviceaccount.com\"\n",
    "    )\n",
    "\n",
    "    cmds = [\n",
    "        \"gcloud\",\n",
    "        \"projects\",\n",
    "        \"add-iam-policy-binding\",\n",
    "        gcp_project_id,\n",
    "        f\"--member=serviceAccount:{default_cloud_build_service_account}\",\n",
    "        \"--role=roles/cloudbuild.builds.builder\",\n",
    "    ]\n",
    "\n",
    "    result = run_subprocess_w_check(cmds)\n",
    "    return result\n"
   ]
  },
  {
   "cell_type": "code",
   "execution_count": null,
   "metadata": {},
   "outputs": [
    {
     "data": {
      "text/plain": [
       "('wck-source', '912138393635')"
      ]
     },
     "execution_count": 6,
     "metadata": {},
     "output_type": "execute_result"
    }
   ],
   "source": [
    "c = Config(GCP_PROJECT_ID='wck-source', run_validation=False)\n",
    "project_id, project_number = c.GCP_PROJECT_ID, c.gcp_project_number\n",
    "\n",
    "default_cloud_build_service_account = (\n",
    "    f\"service-{project_number}@gcp-sa-cloudbuild.iam.gserviceaccount.com\"\n",
    ")\n"
   ]
  },
  {
   "cell_type": "code",
   "execution_count": null,
   "metadata": {},
   "outputs": [],
   "source": [
    "result = assign_permissions_to_default_cloud_builder_service_account(\n",
    "    project_id, project_number\n",
    ")"
   ]
  },
  {
   "cell_type": "code",
   "execution_count": null,
   "metadata": {},
   "outputs": [],
   "source": [
    "%%bash \n",
    "\n",
    "gcloud projects add-iam-policy-binding wck-source \\\n",
    "    --member=servi\n",
    "        \"projects\",\n",
    "        \"add-iam-policy-binding\",\n",
    "        gcp_project_id,\n",
    "        f\"--member=serviceAccount:{default_cloud_build_service_account}\",\n",
    "        \"--role=roles/cloudbuild.builds.builder\",\n",
    "\n"
   ]
  }
 ],
 "metadata": {
  "kernelspec": {
   "display_name": ".venv",
   "language": "python",
   "name": "python3"
  },
  "language_info": {
   "codemirror_mode": {
    "name": "ipython",
    "version": 3
   },
   "file_extension": ".py",
   "mimetype": "text/x-python",
   "name": "python",
   "nbconvert_exporter": "python",
   "pygments_lexer": "ipython3",
   "version": "3.12.8"
  }
 },
 "nbformat": 4,
 "nbformat_minor": 2
}
